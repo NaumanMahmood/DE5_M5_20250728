{
 "cells": [
  {
   "cell_type": "code",
   "execution_count": 5,
   "metadata": {},
   "outputs": [
    {
     "name": "stdout",
     "output_type": "stream",
     "text": [
      "data\\03_Library Systembook.csv\n"
     ]
    }
   ],
   "source": [
    "\n",
    "from pathlib import Path\n",
    "data_path = Path(\"data\")\n",
    "\n",
    "file1_path = data_path / \"03_Library Systembook.csv\"\n",
    "file2_path = data_path / \"03_Library SystemCustomers.csv\"\n",
    "\n",
    "print(file1_path)"
   ]
  },
  {
   "cell_type": "code",
   "execution_count": 8,
   "metadata": {},
   "outputs": [
    {
     "name": "stdout",
     "output_type": "stream",
     "text": [
      "      Id                                     Books Book checkout  \\\n",
      "0    1.0                       Catcher in the Rye   \"20/02/2023\"   \n",
      "1    2.0          Lord of the rings the two towers  \"24/03/2023\"   \n",
      "2    3.0  Lord of the rings the return of the kind  \"29/03/2023\"   \n",
      "3    4.0                                The hobbit  \"02/04/2023\"   \n",
      "4    5.0                                     Dune   \"02/04/2023\"   \n",
      "..   ...                                       ...           ...   \n",
      "109  NaN                                       NaN           NaN   \n",
      "110  NaN                                       NaN           NaN   \n",
      "111  NaN                                       NaN           NaN   \n",
      "112  NaN                                       NaN           NaN   \n",
      "113  NaN                                       NaN           NaN   \n",
      "\n",
      "    Book Returned Days allowed to borrow  Customer ID  \n",
      "0      25/02/2023                2 weeks          1.0  \n",
      "1      21/03/2023                2 weeks          2.0  \n",
      "2      25/03/2023                2 weeks          3.0  \n",
      "3      25/03/2023                2 weeks          4.0  \n",
      "4      25/03/2023                2 weeks          5.0  \n",
      "..            ...                    ...          ...  \n",
      "109           NaN                    NaN          NaN  \n",
      "110           NaN                    NaN          NaN  \n",
      "111           NaN                    NaN          NaN  \n",
      "112           NaN                    NaN          NaN  \n",
      "113           NaN                    NaN          NaN  \n",
      "\n",
      "[114 rows x 6 columns]\n"
     ]
    }
   ],
   "source": [
    "import pandas as pd\n",
    "df1 = pd.read_csv(file1_path)\n",
    "\n",
    "print(df1)"
   ]
  }
 ],
 "metadata": {
  "kernelspec": {
   "display_name": "base",
   "language": "python",
   "name": "python3"
  },
  "language_info": {
   "codemirror_mode": {
    "name": "ipython",
    "version": 3
   },
   "file_extension": ".py",
   "mimetype": "text/x-python",
   "name": "python",
   "nbconvert_exporter": "python",
   "pygments_lexer": "ipython3",
   "version": "3.11.7"
  }
 },
 "nbformat": 4,
 "nbformat_minor": 2
}
